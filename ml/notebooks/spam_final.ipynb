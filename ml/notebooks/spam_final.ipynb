{
 "cells": [
  {
   "cell_type": "markdown",
   "id": "48905436",
   "metadata": {},
   "source": [
    "# Шаблон эксперимента"
   ]
  }
 ],
 "metadata": {},
 "nbformat": 4,
 "nbformat_minor": 5
}